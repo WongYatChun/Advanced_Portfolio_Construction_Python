{
 "cells": [
  {
   "cell_type": "markdown",
   "metadata": {},
   "source": [
    "# Chapter 3: Robust Estimates for Expected Returns"
   ]
  },
  {
   "cell_type": "markdown",
   "metadata": {},
   "source": [
    "## Key Concepts\n",
    "\n",
    "- Understand lack of robustness of expected return estimates\n",
    "- Analyse agnostic priors on expected returns\n",
    "- Using factor models for estimating expected returns\n",
    "- Extracting implied neutral expected return estimates\n",
    "- Introducing active views\n",
    "- Understand Black-Litterman model\n",
    "\n",
    "\n",
    "\n",
    "The **main challenge** in portfolio construction is the **estimation of expected returns**.\n",
    "\n",
    "We discuss in this module how **factor models can be used for more robust expected return estimate**. We also explain how to **link expected return estimates to risk parameter estimates**, and **introduce Bayesian techniques** and **statistical shrinkage** towards the grand mean for expected return estimation.\n",
    "\n",
    "In a second step, we explain how to **incorporating active views in a Bayesian framework**. In particular, we introduce the **Black-Litterman model** as a relevant portfolio optimization method in the presence of parameter uncertainty, and we show how to apply **Bayesian analysis to combine historical estimates and non-sample views of varying reliability**.\n"
   ]
  },
  {
   "cell_type": "code",
   "execution_count": 1,
   "metadata": {},
   "outputs": [],
   "source": [
    "import pandas as pd\n",
    "import numpy as np\n",
    "import statsmodels.api as sm\n",
    "import matplotlib.pyplot as plt\n",
    "import edhec_risk_kit_206 as erk\n",
    "\n",
    "%load_ext autoreload\n",
    "%autoreload 2\n",
    "%matplotlib inline\n",
    "\n",
    "# using seaborn style (type plt.style.available to see available styles)\n",
    "plt.style.use(\"seaborn-pastel\") "
   ]
  },
  {
   "cell_type": "markdown",
   "metadata": {},
   "source": [
    "## Estimates for expected returns"
   ]
  },
  {
   "cell_type": "markdown",
   "metadata": {},
   "source": [
    "The **Modern Portfolio Theory** is not very useful because the estimation of the covariance matrix and the return vector is very difficult, especially the return vector because **very small changes in the expected returns normally result in large changes in output weights**. \n",
    "\n",
    "In general, **sample based information** such as the returns computed using sampled past data **are close to useless**. \n",
    "\n",
    "Let $N$ be the number of assets in our portfolio."
   ]
  },
  {
   "cell_type": "markdown",
   "metadata": {},
   "source": [
    "#### Shrinked expected returns \n",
    "\n",
    "A very basic estimate for expected returns is a simple modificiation of sample means. Let \n",
    "$$\n",
    "\\mu_i := \\frac{1}{T} \\sum_{t=1}^{T} r_{t}^{i} \n",
    "\\quad\\text{and}\\quad\n",
    "\\bar{\\mu} := \\frac{1}{N} \\sum_{i=1}^N \\mu_i, \n",
    "$$\n",
    "be the **sample mean return** of each asset \n",
    "and the **grand sample mean** (i.e., the mean of the computed mean returns), respectively. \n",
    "The sample mean might be improved by **shrinking** the individual means to the grand sample mean:\n",
    "$$\n",
    "\\hat{\\mu}_i := \\delta \\bar{\\mu} + (1-\\delta)\\mu_i,\n",
    "$$\n",
    "given a shrinking factor $\\delta\\in [0,1]$"
   ]
  },
  {
   "cell_type": "code",
   "execution_count": 2,
   "metadata": {},
   "outputs": [
    {
     "name": "stdout",
     "output_type": "stream",
     "text": [
      "sample means:   [11.1 12.3  8.4 15.3  5.6  9.7]%\n",
      "shrinked means: [10.75 11.35  9.4  12.85  8.   10.05]%\n"
     ]
    }
   ],
   "source": [
    "# these are the \\mu_i\n",
    "asset_means_rets = np.array([11.1, 12.3, 8.4, 15.3, 5.6, 9.7])/100\n",
    "\n",
    "# this is \\bar{\\mu} \n",
    "grand_sample_mean = asset_means_rets.mean()\n",
    "\n",
    "# shrinked mean\n",
    "delta = 0.5\n",
    "shrinked_mean_ret = delta * grand_sample_mean + (1-delta)* asset_means_rets\n",
    "\n",
    "print(\"sample means:   {}%\" .format( np.round(asset_means_rets*100,2)) )\n",
    "print(\"shrinked means: {}%\" .format( np.round(shrinked_mean_ret*100,2) ) )"
   ]
  },
  {
   "cell_type": "markdown",
   "metadata": {},
   "source": [
    "### Relying on agnostic priors\n",
    "\n",
    "Recall that the **expected return and the volatility of a portfolio** of $N$ assets are given by:\n",
    "$$\n",
    "\\mu_p := \\mathbf{w}^T\\mathbf{\\mu} = \\sum_{i=1}^N w_i \\mu_i\n",
    "\\quad\\text{and}\\quad\n",
    "\\sigma_p = (\\mathbf{w}^T \\Sigma \\mathbf{w})^{1/2}, \n",
    "$$\n",
    "where $\\mathbf{w}:=(w_1,\\dots,w_N)^T$ is the vector of weigths, \n",
    "$\\mathbf{\\mu}:=(\\mu_1,\\dots,\\mu_N)$, where $\\mu_i=\\mathbb{E}[r_i]$ for each $i=1,\\dots,N$ is the expected return of asset $i$, and $\\Sigma$ is the expected covariance matrix of the assets.\n",
    "\n",
    "The vector of expected returns $\\mathbf{\\mu}:=(\\mu_1,\\dots,\\mu_N)$ is what we are mainly concerned about. \n",
    "\n",
    "We have to introduce some, ideally **economically motivated, priors**.\n",
    "\n",
    "\n",
    "Let us suppose that we are interested in the maximum sharpe ratio portfolio, i.e., the portoflio or which the sharpe ratio:\n",
    "$$\n",
    "\\lambda_p = \\frac{\\mu_p - r_f}{\\sigma_p} \n",
    "= \\frac{ \\sum_{i=1}^N w_i (\\mu_i - r_f)}{ (\\mathbf{w}^T \\Sigma \\mathbf{w})^{1/2} },\n",
    "$$\n",
    "is maximum."
   ]
  },
  {
   "cell_type": "markdown",
   "metadata": {},
   "source": [
    "#### 1. First agnostic prior: all returns are equal\n",
    "Assume that **all expected returns are going to be equal**, for example, equal to the grand sample mean, \n",
    "in this case we have:\n",
    "$$\n",
    "\\mu_i - r_f = \\hat{\\mu} - r_f \\qquad \\forall\\; i,\n",
    "$$\n",
    "hence maximizing the sharpe ratio means is equivalent to minimizing the volatility:\n",
    "$$\n",
    "\\lambda_p = \\frac{\\mu_p - r_f}{\\sigma_p} \n",
    "= \\frac{ \\sum_{i=1}^N w_i (\\hat{\\mu} - r_f)}{ (\\mathbf{w}^T \\Sigma \\mathbf{w})^{1/2} }\n",
    "= \\frac{ \\hat{\\mu} - r_f }{ (\\mathbf{w}^T \\Sigma \\mathbf{w})^{1/2} }.\n",
    "$$"
   ]
  },
  {
   "cell_type": "markdown",
   "metadata": {},
   "source": [
    "#### 2. Second agnostic prior: sharpe ratios are all equal\n",
    "Assume that sharpe ratios are all equal, this means assuming that the excess return $\\mu_i-r_f$ of each asset is proportional to the corresponding volatility $\\sigma_i$:\n",
    "$$\n",
    "\\mu_i - r_f = \\lambda \\sigma_i \n",
    "\\qquad  \\forall\\; i, \n",
    "$$\n",
    "where the constant of proportionality $\\lambda$ is sharpe ratio supposed to be the same for each asset. The sharpe ratio of the portfolio becomes:\n",
    "$$\n",
    "\\lambda_p = \\frac{\\mu_p - r_f}{\\sigma_p} \n",
    "= \\frac{ \\sum_{i=1}^N w_i \\lambda \\sigma_i}{ (\\mathbf{w}^T \\Sigma \\mathbf{w})^{1/2} }\n",
    "= \\lambda \\frac{ \\sum_{i=1}^N w_i \\sigma_i }{ (\\mathbf{w}^T \\Sigma \\mathbf{w})^{1/2} }. \n",
    "$$\n",
    "The ratio between the weigthed volatilities and the volatility of the portfolio is known as the **diversification ratio**.\n",
    "\n",
    "It is a very strong assumption and we have reasons to believe that not all of risk is rewarded. \n",
    "In fact, asset pricing theory suggests that **only the systematic component is rewarded** and that \n",
    "the specific risk is not rewarded because it can be diversified away. In other words, asset pricing theory suggests that **we should not be rewarded for a piece of risks that we could have diversified away** and we should instead assume that **there is a relationship between excess expected return and (only) the systematic part of volatility**. \n",
    "\n",
    "Therefore, we want to **decompose volatility in terms of specific risk and systematic risk**, \n",
    "and come up with a better **estimate for expected returns by relating it to systematic risk**. \n",
    "\n",
    "We could do this using a **factor model**."
   ]
  },
  {
   "cell_type": "markdown",
   "metadata": {},
   "source": [
    "#### 3. Using a factor model to estimate (excess) returns\n",
    "\n",
    "The simplest factor model that we can use is the **CAPM**. Recall that in the CAPM the expected escess return of an asset was proportional to the excess return of the market:\n",
    "$$\n",
    "\\mu_i - r_f = \\beta_i(\\mu_m -r_f)\n",
    "\\qquad \\forall \\; i,\n",
    "$$\n",
    "where $\\beta_i$ is the constant of proportionality. This is equivalent to impose that the following ratio:\n",
    "$$\n",
    "\\text{TR}_i := \\frac{\\mu_i - r_f}{\\beta_i} = \\mu_m -r_f,\n",
    "\\qquad \\forall \\; i\n",
    "$$\n",
    "called the **Treynor ratio** is the same for all stocks and equal to the excess return of the market $\\mu_m -r_f$. If we accept this model, then the maximum sharpe ratio portfolio would has a sharpe ratio equal to:\n",
    "$$\n",
    "\\lambda_p = \\frac{\\mu_p - r_f}{\\sigma_p}\n",
    "= \\frac{ \\sum_{i=1}^N w_i (\\mu_i - r_f)}{ (\\mathbf{w}^T \\Sigma \\mathbf{w})^{1/2} }\n",
    "= (\\mu_m - r_f) \\frac{ \\sum_{i=1}^N w_i \\beta_i}{ (\\mathbf{w}^T \\Sigma \\mathbf{w})^{1/2} }, \n",
    "$$\n",
    "where the numerator is the $\\beta$ of the portfolio, that is, the weigthed average of $\\beta_i$. \n",
    "\n",
    "Below, we consider the $30$ industry portfolios and compare the annualized returns obtained simply using the historical data and using the CAMP model:"
   ]
  },
  {
   "cell_type": "code",
   "execution_count": 3,
   "metadata": {},
   "outputs": [],
   "source": [
    "# Load data\n",
    "nind = 30\n",
    "start = \"2013\"\n",
    "ind_rets = erk.get_ind_returns(n_inds= nind)[start:]\n",
    "fff = erk.get_fff_returns()[start:]\n",
    "mkt_excess_rets = fff[[\"Mkt-RF\"]]"
   ]
  },
  {
   "cell_type": "code",
   "execution_count": 4,
   "metadata": {},
   "outputs": [
    {
     "data": {
      "text/plain": [
       "Food     0.081512\n",
       "Beer     0.121787\n",
       "Smoke    0.068340\n",
       "Games    0.172070\n",
       "Books    0.022859\n",
       "dtype: float64"
      ]
     },
     "execution_count": 4,
     "metadata": {},
     "output_type": "execute_result"
    }
   ],
   "source": [
    "# compute the excess returns of all industries\n",
    "rf = pd.DataFrame().reindex_like(ind_rets)\n",
    "for col in rf.columns:\n",
    "    rf[col] = fff[\"RF\"].values\n",
    "ind_exc_rets = ind_rets - rf \n",
    "# compute the annualized \"historic\" mean return\n",
    "historic_mean = erk.annualize_rets( ind_exc_rets, periods_per_year=12 )\n",
    "historic_mean.head()"
   ]
  },
  {
   "cell_type": "code",
   "execution_count": 5,
   "metadata": {},
   "outputs": [
    {
     "data": {
      "text/plain": [
       "Food     0.076901\n",
       "Beer     0.068366\n",
       "Smoke    0.063972\n",
       "Games    0.145194\n",
       "Books    0.151793\n",
       "dtype: float64"
      ]
     },
     "execution_count": 5,
     "metadata": {},
     "output_type": "execute_result"
    }
   ],
   "source": [
    "# computing beta for each industry  \n",
    "industries = ind_rets.columns\n",
    "betas = []\n",
    "for industry in industries:\n",
    "    ind_excess_rets = ind_rets[industry] - fff[\"RF\"].values\n",
    "    lm = erk.regress(ind_excess_rets, mkt_excess_rets)\n",
    "    betas.append( lm.params[0] )\n",
    "betas = pd.DataFrame(betas, index=ind_rets.columns, columns=[\"Mkt-RF\"])\n",
    "# now estimate excess returns of the industries using the CAPM model: beta * exc_ret_of_the_market\n",
    "capm_rets = []\n",
    "for industry in betas.index:\n",
    "    capm_rets.append( erk.annualize_rets( betas.loc[industry] * mkt_excess_rets , periods_per_year=12 )[0] )\n",
    "capm_rets = pd.Series(capm_rets, index=betas.index)\n",
    "capm_rets.head()"
   ]
  },
  {
   "cell_type": "code",
   "execution_count": 6,
   "metadata": {},
   "outputs": [
    {
     "data": {
      "image/png": "[encoded data removed]",
      "text/plain": [
       "<Figure size 648x360 with 1 Axes>"
      ]
     },
     "metadata": {
      "needs_background": "light"
     },
     "output_type": "display_data"
    }
   ],
   "source": [
    "A = pd.concat([capm_rets, historic_mean], axis=1) * 100\n",
    "A.columns = [\"CAPM Exp.\",\"Historic Exp.\"]\n",
    "ax = A.plot.bar(grid=True, figsize=(9,5), title=\"Annualized CAPM Exp. returns VS Historical returns {}-2018\".format(start))\n",
    "ax.set_ylabel(\"return %\")\n",
    "plt.show()"
   ]
  },
  {
   "cell_type": "markdown",
   "metadata": {},
   "source": [
    "Observe that the CAPM expected returns are all positives and are contained in a much smaller range of returns. "
   ]
  },
  {
   "cell_type": "markdown",
   "metadata": {},
   "source": [
    "## Black-Litterman model\n",
    "\n",
    "### Background and Theory\n",
    "\n",
    "The **Black-Litterman model** provides a methodical way of **combining an investors subjective views** of the future performance of a risky investment asset with the **views implied by the market equilibrium**. \n",
    "\n",
    "The procedure can be viewed as a **bayesian shrinkage method that shrinks the expected returns constructed from an investor's views on asset returns towards asset returns implied by the market equilibrium**:\n",
    "1. Computes a set of expected returns (**implied returns**) that uses the **market equilibrium implied as a prior**\n",
    "2. Combined with returns implied by subjective investor views to produce a set of posterior expected returns $\\mu^{BL}$ and covariances $\\Sigma^{BL}$.\n",
    "\n",
    "**When $\\mu^{BL}, \\Sigma^{BL}$ as used as as inputs to a Markowitz Optimizer**, they produce optimized weights that **diverge from the market portfolio in limited ways**, and only to the extent of the confidence that the investor expresses in the views. Consequently **the optimized portfolios are more stable** portfolios than with pure Markowitz optimization with sample estimates. \n"
   ]
  },
  {
   "cell_type": "markdown",
   "metadata": {},
   "source": [
    "### Benchmark \n",
    "\n",
    "The first step in the Black-Litterman model is the extraction of **implied expected return estimates**. \n",
    "\n",
    "Assume that we have at our disposal a set of active views about expected returns. **How can we incorporate those active views in the portfolio construction process?**\n",
    "\n",
    "The first challenge is to find **a meaningful anchor point, a meaningful benchmark**, to which a portfolio that we are holding can converge to in case, for example, the acting manager loses confidence in its views or imply does not even have views on any particular circumstances.\n",
    "\n",
    "**The Black-Litterman model suggests to use the market portfolio, the CAPM**."
   ]
  },
  {
   "cell_type": "markdown",
   "metadata": {},
   "source": [
    "### Reverse engineering: extract implied returns\n",
    "\n",
    "The Black-Litterman model is based on an assumption that expected returns have greatest impact to portfolio weightings in mean-variance optimization. Therefore, **the model attempts to extract such return in a reverse-engineer way from the benchmark constituents** rather than relying on historical data.\n",
    "\n",
    "Think about the engineering of portfolio construction for a set of $N$ assets. \n",
    "We have a set of expected return $\\{\\mu_i\\}$, for $i=1,\\dots,N$, and a covariance matrix $\\Sigma$. Then we use portfolio optimization with \n",
    "these inputs and obtain as output the set of optimal portfolio weights $\\{w^*_i\\}$:\n",
    "$$\n",
    "\\left\\{ \\mu_i, \\Sigma:=[c_{ij}]\\right\\}_{i,j=1,\\dots,N} \n",
    "\\quad\\longrightarrow\\quad \n",
    "\\{w^*_i\\}_{i=1,\\dots,N}.\n",
    "$$\n",
    "In a **reverse-reverse engineering** process we do not take in input the expected returns (we do not have meaningful return estimates). We will still take the covariance matrix $\\Sigma$ and then we take the **benchmark weights** $\\{w_i^{\\text{benchmark}} \\}$. \n",
    "For example, if our benchmark is cap-weighted (resp. equally-weigthed), we will take cap-weighted (resp. equally-weigthed) weights. Then, we will extract the value for expected returns corresponding to such weigths:\n",
    "$$\n",
    "\\left\\{ w_i^{\\text{benchmark}}, \\Sigma:=[c_{ij}]\\right\\}_{i,j=1,\\dots,N} \n",
    "\\quad\\longrightarrow\\quad\n",
    "\\Pi := \\{\\mu_i^{\\text{implied}}\\}_{i=1,\\dots,N}.\n",
    "$$\n",
    "We call the extracted returns the **implied returns**. \n",
    "\n",
    "In equilibrium, all investors as a whole hold the market portfolio $\\mathbf{w}^{\\text{benchmark}} := \\{ w_i^{\\text{benchmark}} \\}$. \n",
    "The equilibrium risk premiums $\\Pi$ (the implied returns) are such that if all investors hold the same view, \n",
    "the demand for these assets exactly equals to the outstanding supply. \n",
    "Assuming that the average risk tolerance of the world is represented by the **risk aversion parameter $\\delta$**, \n",
    "the implied returns are then given by:\n",
    "$$\n",
    "\\Pi = \\delta \\Sigma \\mathbf{w}^{\\text{benchmark}}.\n",
    "$$\n",
    "\n",
    "In principle, the risk aversion parameter $\\delta$ can be set arbitrarily. For instance, some authors use $\\delta = 2.5$ while \n",
    "others use $\\delta = 2.14$ of $\\delta=2.65$. Another common approach is to set $\\delta$ to the Market Price of Risk \n",
    "(i.e., a measure of the risk aversion of the Representative Investor, which is computed as $\\delta = \\mu_M/\\sigma^2_M$ \n",
    "where $\\mu_M$ and $\\sigma^2_M$ are estimates of the mean and variance of the returns of the market portfolio). \n",
    "Frequently, a broad market index such as the **S\\&P500** is taken as a proxy for the market in order to compute \n",
    "the market price of risk from $\\mu_M$ and $\\sigma^2_M$.\n",
    "\n",
    "We are going to treat this vector of implied returns as an anchor point and we also add some kind of uncertainty around it. \n",
    "That is, the Bayesian prior is that the expected returns $\\mu$ are centered at the equilibrium values, that is \n",
    "they are normally distributed with the mean of $\\Pi$:\n",
    "$$\n",
    "\\mu = \\Pi + \\varepsilon^{(e)},\n",
    "$$\n",
    "where $\\varepsilon^{e} \\sim \\mathcal{N}(0,\\tau\\Sigma)$ is a normally distributed random vector with zero mean and \n",
    "covariance matrix $\\tau\\Sigma$, where $\\tau$ is a scalar indicating the uncertainty of the CAPM prior.\n",
    "\n",
    "The treatment of $\\tau$ is the source of some confusion. \n",
    "Some implementors have done away with $\\tau$ by setting it to $1$. \n",
    "However, in the original model, Black and Litterman suggest using a small number: a common technique is to set $\\tau = 1/T$ where $T$ is the number of periods of data used. For example, for $5$ years of monthly data ($T=5\\cdot 12=60$) data, then $\\tau=1/60=0.016$. "
   ]
  },
  {
   "cell_type": "markdown",
   "metadata": {},
   "source": [
    "### Active views\n",
    "\n",
    "In addition to the Bayesian CAPM prior, the investors also have a number of **active views** on the market returns. A **view** is expressed as a statement that the expected return of a portfolio has a normal distribution with a certain mean equal to \n",
    "$q$ and a standard deviation given by $\\omega$. \n",
    "\n",
    "Let $K$ bet the number of views. Let $P$ be a $K\\times N$ matrix (**Projection matrix**) that identifies the assets involved in the views\n",
    "and $Q$ be a $K\\times 1$ vector of the expected returns on these portfolios (**Views vector**):\n",
    "$$\n",
    "P = \n",
    "\\begin{pmatrix}\n",
    "p_{11} & p_{12} & \\dots  & p_{1N} \\\\\n",
    "\\vdots & \\vdots & \\ddots & \\vdots \\\\\n",
    "p_{K1} & p_{K2} & \\dots  & p_{KN} \\\\\n",
    "\\end{pmatrix}\n",
    "\\qquad\n",
    "Q = \n",
    "\\begin{pmatrix}\n",
    "q_{1}  \\\\\n",
    "\\vdots  \\\\\n",
    "q_{K}.\n",
    "\\end{pmatrix}\n",
    "$$\n",
    "The entries $\\{p_{kn}\\}$ are the weights of the corresponding $K$ portfolio composed of $N$ assets (asset weigths within each view).\n",
    "\n",
    "The investor's views can be expressed as:\n",
    "$$\n",
    "P\\mu = Q + \\varepsilon^{(\\nu)},\n",
    "$$\n",
    "where $\\varepsilon^{(\\nu)} \\sim \\mathcal{N}(0,\\Omega)$ is an unobservable normally distributed random vector \n",
    "with zero mean and a diagonal $K\\times K$ covariance matrix $\\Omega$. \n",
    "It is further assumed that the $\\varepsilon^{(e)}$ and $\\varepsilon^{(\\nu)}$ are independent:\n",
    "$$\n",
    "\\begin{pmatrix}\n",
    "\\varepsilon^{(e)}  \\\\\n",
    "\\varepsilon^{(\\nu)}\n",
    "\\end{pmatrix} \n",
    "\\sim \n",
    "\\mathcal{N}\n",
    "\\left(\n",
    "0,\n",
    "\\begin{pmatrix}\n",
    "\\tau\\Sigma & 0  \\\\\n",
    "0          & \\Omega \\\\\n",
    "\\end{pmatrix}\n",
    "\\right).\n",
    "$$\n",
    "\n",
    "Views are represented in $Q$ and $P$ as follows: \n",
    "- if the $k$-th view is an **absolute view of asset $i$**, then it is represented by setting $q_k$ to the expected return of asset $k$ and setting $p_{ki} = 1$ and all other elements of row $k$ in $P$ to zero.\n",
    "- If the $k$-th view is **a relative view between assets $i$ and $j$**, then it is represented by setting $q_k$ to the expected difference of returns between assets $i$ and $j$ and setting $p_{ki} = -1$ for the underperforming asset, $p_{kj} = +1$ \n",
    "and all other elements of row $k$ in $P$ to zero. \n",
    "\n",
    "**EXAMPLE**: consider the following investor views. We have $N=4$ assets and $K=2$ views. \n",
    "The investor has a first **relative view** in which he believes that asset 1 will outperform asset 3 by $2\\%$ with confidence $\\omega_1=\\omega_{11}$. \n",
    "Then he has a second **absolute view** in which he believes that asset 2 will return $3\\%$ with confidence $\\omega_2=\\omega_{22}$. \n",
    "The investor has no view on asset 4, and thus its return should not be directly adjusted. These views are specified as follows:\n",
    "$$\n",
    "P = \n",
    "\\begin{pmatrix}\n",
    "1 & 0 & -1 & 0 \\\\\n",
    "0 & 1 & 0 & 0 \n",
    "\\end{pmatrix},\n",
    "\\qquad\n",
    "Q = \n",
    "\\begin{pmatrix}\n",
    "0.02 \\\\\n",
    "0.03 \n",
    "\\end{pmatrix},\n",
    "\\qquad\n",
    "\\Omega = \n",
    "\\begin{pmatrix}\n",
    "\\omega_{11} & 0 \\\\\n",
    "0 & \\omega_{22}\n",
    "\\end{pmatrix}\n",
    "$$\n",
    "Therefore, we would have:\n",
    "$$\n",
    "\\begin{pmatrix}\n",
    "1 & 0 & -1 & 0 \\\\\n",
    "0 & 1 & 0 & 0 \n",
    "\\end{pmatrix}\n",
    "\\begin{pmatrix}\n",
    "\\mu_1 \\\\\n",
    "\\mu_2 \\\\\n",
    "\\mu_3 \\\\\n",
    "\\mu_4 \\\\\n",
    "\\end{pmatrix}\n",
    "= \n",
    "\\begin{pmatrix}\n",
    "\\mu_1 - \\mu_3 \\\\\n",
    "\\mu_2 \\\\\n",
    "\\end{pmatrix}\n",
    "= \n",
    "\\begin{pmatrix}\n",
    "0.02 \\\\\n",
    "0.03 \\\\\n",
    "\\end{pmatrix}\n",
    "+ \n",
    "\\begin{pmatrix}\n",
    "\\varepsilon^{(\\nu)}_1 \\\\\n",
    "\\varepsilon^{(\\nu)}_2\n",
    "\\end{pmatrix}\n",
    "\\qquad\\Longrightarrow\\qquad\n",
    "\\begin{cases}\n",
    "\\mu_1 - \\mu_3 &= 0.02 + \\varepsilon^{(\\nu)}_1 \\\\\n",
    "\\mu_2 &= 0.03 + \\varepsilon^{(\\nu)}_2 \\\\\n",
    "\\end{cases}\n",
    "$$\n",
    "\n",
    "\n",
    "The uncertainty of the views $\\Omega$ is either set by the user, or inferred (e.g., via statements of confidence, \n",
    "from market data, from the variance of residuals from a prediction model used to generate the views, etc.). \n",
    "\n",
    "The following paper:\n",
    "- [HE99] **He, Litterman, The intuition behind the Black-Litterman model portfolios, 1999**\n",
    "\n",
    "suggests that if the investor does not explicitly quantify the uncertainty associated with the views \n",
    "in the matrix $\\Omega$, we could make the assumption that $\\Omega$ is proportional to the variance of the prior, specifically,\n",
    "$$\n",
    "\\Omega = \\text{diag}\\left(P (\\tau \\Sigma) P^T \\right).\n",
    "$$"
   ]
  },
  {
   "cell_type": "markdown",
   "metadata": {},
   "source": [
    "### Mixing implied returns with active views\n",
    "\n",
    "Combine the views with the CAPM prior in the Bayesian framework.\n",
    "\n",
    "The expected returns are distributed as $\\mathcal{N}(\\mu^{BL},M^{-1})$, \n",
    "\n",
    "\n",
    "where $\\mu^{BL}$ (**posterior vector**) is given by:\n",
    "\n",
    "$$\n",
    "\\begin{equation}\n",
    "\\label{eq:bl:mu}\n",
    "\\mu^{BL} = \n",
    "\\bigl( \\underbrace{ (\\tau\\Sigma)^{-1} + P^T \\Omega^{-1} P }_{N\\times N}   \\bigr)^{-1} \n",
    "\\bigl( \\underbrace{ (\\tau\\Sigma)^{-1} \\Pi + P^T \\Omega^{-1} Q }_{N\\times 1}   \\bigr),\n",
    "\\end{equation}\n",
    "$$\n",
    "\n",
    "and $M^{-1}$ given by:\n",
    "\n",
    "$$\n",
    "\\begin{equation}\n",
    "\\label{eq:bl:sigma}\n",
    "M^{-1} = \n",
    "\\bigl( \\underbrace{ (\\tau\\Sigma)^{-1} + P^T \\Omega^{-1} P }_{N\\times N}   \\bigr)^{-1}.\n",
    "\\end{equation}\n",
    "$$\n",
    "**$M$, i.e. the posterior variance**\n",
    "- the variance of the posterior mean estimate about the actual mean. \n",
    "- the uncertainty in the posterior mean estimate, \n",
    "- **Not the variance of the returns**. \n",
    "\n",
    "\n",
    "Compute the posterior covariance of returns:\n",
    "$$\n",
    "\\Sigma^{BL} = \\Sigma + M^{-1} = \\Sigma + \\bigl( (\\tau\\Sigma)^{-1} + P^T \\Omega^{-1} P  \\bigr)^{-1}.\n",
    "$$\n",
    "\n",
    "The set of equations above is known as the **Black-Litterman Master Formula**. \n",
    "\n",
    "**$\\Omega$ is sometimes non-invertible**, to avoid this issue, **Black-Litterman Master Formula** can be expressed in the following way:\n",
    "\n",
    "$$\n",
    "\\begin{equation}\n",
    "\\mu^{BL} = \\Pi + \\tau \\Sigma P^T \\bigl( P \\tau \\Sigma P^T + \\Omega\\bigr)^{-1} \\bigl(Q - P \\Pi\\bigr),\n",
    "\\end{equation}\n",
    "$$\n",
    "\n",
    "$$\n",
    "\\begin{equation}\n",
    "\\Sigma^{BL} = \\Sigma + \\tau \\Sigma - \\tau\\Sigma P^T\\bigl(P \\tau \\Sigma P^T + \\Omega\\bigr)^{-1} P \\tau \\Sigma.\n",
    "\\end{equation}\n",
    "$$"
   ]
  },
  {
   "cell_type": "markdown",
   "metadata": {},
   "source": [
    "## Annotated Implementation of Black-Litterman\n",
    "### The Code\n",
    "\n",
    "The Black Litterman procedure is implemented in Python in the function `bl`. But first we need a few helper functions\n",
    "\n",
    "numpy treats a column vector differently from a 1 dimensional array. In order to consistently use column vectors, `as_colvec` function takes either a numpy array or a numpy one-column matrix (i.e. a column vector) and returns the data as a column vector.\n"
   ]
  },
  {
   "cell_type": "code",
   "execution_count": 7,
   "metadata": {},
   "outputs": [
    {
     "data": {
      "text/plain": [
       "array([[0],\n",
       "       [1],\n",
       "       [2],\n",
       "       [3]])"
      ]
     },
     "execution_count": 7,
     "metadata": {},
     "output_type": "execute_result"
    }
   ],
   "source": [
    "import numpy as np\n",
    "import pandas as pd\n",
    "\n",
    "def as_colvec(x):\n",
    "    if (x.ndim == 2):\n",
    "        return x\n",
    "    else:\n",
    "        return np.expand_dims(x, axis=1)\n",
    "\n",
    "as_colvec(np.arange(4))"
   ]
  },
  {
   "cell_type": "markdown",
   "metadata": {},
   "source": [
    "Recall that the first step in the Black Litterman procedure was to reverse engineer the implied returns vector $\\pi$ from a set of portfolio weights $w$. \n",
    "\n",
    "$$\\pi = \\delta\\Sigma w$$\n",
    "\n",
    "This is performed by the following code:"
   ]
  },
  {
   "cell_type": "code",
   "execution_count": 8,
   "metadata": {},
   "outputs": [],
   "source": [
    "def implied_returns(delta, sigma, w):\n",
    "    \"\"\"\n",
    "    Obtain the implied expected returns by reverse engineering the weights\n",
    "    Inputs:\n",
    "    delta: Risk Aversion Coefficient (scalar)\n",
    "    sigma: Variance-Covariance Matrix (N x N) as DataFrame\n",
    "        w: Portfolio weights (N x 1) as Series\n",
    "    Returns an N x 1 vector of Returns as Series\n",
    "    \"\"\"\n",
    "    ir = delta * sigma.dot(w).squeeze() # to get a series from a 1-column dataframe\n",
    "    ir.name = 'Implied Returns'\n",
    "    return ir\n"
   ]
  },
  {
   "cell_type": "markdown",
   "metadata": {},
   "source": [
    "If the investor does not have a specific way to explicitly quantify the uncertaintly associated with the view in the $\\Omega$ matrix, one could make the simplifying assumption that $\\Omega$ is proportional to the variance of the prior.\n",
    "\n",
    "Specifically:\n",
    "\n",
    "$$\\Omega = diag(P (\\tau \\Sigma) P^T) $$\n",
    "\n",
    "This is implemented in Python as:"
   ]
  },
  {
   "cell_type": "code",
   "execution_count": 9,
   "metadata": {},
   "outputs": [],
   "source": [
    "# Assumes that Omega is proportional to the variance of the prior\n",
    "def proportional_prior(sigma, tau, p):\n",
    "    \"\"\"\n",
    "    Returns the He-Litterman simplified Omega\n",
    "    Inputs:\n",
    "    sigma: N x N Covariance Matrix as DataFrame\n",
    "    tau: a scalar\n",
    "    p: a K x N DataFrame linking Q and Assets\n",
    "    returns a P x P DataFrame, a Matrix representing Prior Uncertainties\n",
    "    \"\"\"\n",
    "    helit_omega = p.dot(tau * sigma).dot(p.T)\n",
    "    # Make a diag matrix from the diag elements of Omega\n",
    "    return pd.DataFrame(np.diag(np.diag(helit_omega.values)),index=p.index, columns=p.index)\n"
   ]
  },
  {
   "cell_type": "markdown",
   "metadata": {},
   "source": [
    "We use this function to compute the posterior expected returns as follows:"
   ]
  },
  {
   "cell_type": "code",
   "execution_count": 10,
   "metadata": {},
   "outputs": [],
   "source": [
    "from numpy.linalg import inv\n",
    "\n",
    "def bl(w_prior, sigma_prior, p, q,\n",
    "                omega=None,\n",
    "                delta=2.5, tau=.02):\n",
    "    \"\"\"\n",
    "    # Computes the posterior expected returns based on \n",
    "    # the original black litterman reference model\n",
    "    #\n",
    "    # W.prior must be an N x 1 vector of weights, a Series\n",
    "    # Sigma.prior is an N x N covariance matrix, a DataFrame\n",
    "    # P must be a K x N matrix linking Q and the Assets, a DataFrame\n",
    "    # Q must be an K x 1 vector of views, a Series\n",
    "    # Omega must be a K x K matrix a DataFrame, or None\n",
    "    # if Omega is None, we assume it is\n",
    "    #    proportional to variance of the prior\n",
    "    # delta and tau are scalars\n",
    "    \"\"\"\n",
    "    if omega is None:\n",
    "        omega = proportional_prior(sigma_prior, tau, p)\n",
    "    # Force w.prior and Q to be column vectors\n",
    "    # How many assets do we have?\n",
    "    N = w_prior.shape[0]\n",
    "    # And how many views?\n",
    "    K = q.shape[0]\n",
    "    # First, reverse-engineer the weights to get pi\n",
    "    pi = implied_returns(delta, sigma_prior,  w_prior)\n",
    "    # Adjust (scale) Sigma by the uncertainty scaling factor\n",
    "    sigma_prior_scaled = tau * sigma_prior  \n",
    "    # posterior estimate of the mean, use the \"Master Formula\"\n",
    "    # we use the versions that do not require\n",
    "    # Omega to be inverted (see previous section)\n",
    "    # this is easier to read if we use '@' for matrixmult instead of .dot()\n",
    "    #     mu_bl = pi + sigma_prior_scaled @ p.T @ inv(p @ sigma_prior_scaled @ p.T + omega) @ (q - p @ pi)\n",
    "    mu_bl = pi + sigma_prior_scaled.dot(p.T).dot(inv(p.dot(sigma_prior_scaled).dot(p.T) + omega).dot(q - p.dot(pi).values))\n",
    "    # posterior estimate of uncertainty of mu.bl\n",
    "#     sigma_bl = sigma_prior + sigma_prior_scaled - sigma_prior_scaled @ p.T @ inv(p @ sigma_prior_scaled @ p.T + omega) @ p @ sigma_prior_scaled\n",
    "    sigma_bl = sigma_prior + sigma_prior_scaled - sigma_prior_scaled.dot(p.T).dot(inv(p.dot(sigma_prior_scaled).dot(p.T) + omega)).dot(p).dot(sigma_prior_scaled)\n",
    "    return (mu_bl, sigma_bl)\n"
   ]
  },
  {
   "cell_type": "markdown",
   "metadata": {},
   "source": [
    "### A Simple Example: Absolute Views\n",
    "\n",
    "Consider the portfolio consisting of just two stocks: Intel (INTC) and Pfizer (PFE), their covariance matrix (multipled by $10^4$) is:\n",
    "\n",
    "\\begin{array}{lcc}\n",
    "INTC & 46.0 & 1.06 \\\\\n",
    "PFE   & 1.06 & 5.33\n",
    "\\end{array}\n",
    "\n",
    "Assume that Intel has a market capitalization of USD 80B and that of Pfizer is USD 100B.\n",
    "\n",
    "Thus, if you held a market-cap weighted portfolio you would hold INTC and PFE with the following weights: $W_{INTC} = 80/180 = 44\\%, W_{PFE} = 100/180 = 56\\%$. \n",
    "\n",
    "We can compute the equilibrium implied returns $\\pi$ as follows:\n"
   ]
  },
  {
   "cell_type": "code",
   "execution_count": 11,
   "metadata": {},
   "outputs": [
    {
     "data": {
      "text/plain": [
       "INTC    0.052084\n",
       "PFE     0.008628\n",
       "Name: Implied Returns, dtype: float64"
      ]
     },
     "execution_count": 11,
     "metadata": {},
     "output_type": "execute_result"
    }
   ],
   "source": [
    "tickers = ['INTC', 'PFE']\n",
    "s = pd.DataFrame([[46.0, 1.06], [1.06, 5.33]], index=tickers, columns=tickers) *  10E-4\n",
    "pi = implied_returns(delta=2.5, sigma=s, w=pd.Series([.44, .56], index=tickers))\n",
    "pi"
   ]
  },
  {
   "cell_type": "markdown",
   "metadata": {},
   "source": [
    "Thus the equilibrium implied returns for INTC are a bit more than 5\\% and a bit less than 1\\% for PFE.\n",
    "\n",
    "Assume that the investor thinks that Intel will return 2\\% and that Pfizer is poised to rebounce, and will return 4\\% . We can now examine the optimal weights according to the Markowitz procedure.\n",
    "\n",
    "The Max Sharpe Ratio (MSR) Portfolio weights can be easily computed in explicit form if there are no constraints on the weights.\n",
    "\n",
    "The weights are given by the expression:\n",
    "\n",
    "$$ W_{MSR} = \\frac{\\Sigma^{-1}\\mu_e}{\\bf{1}^T \\Sigma^{-1}\\mu_e} $$\n",
    "\n",
    "where $\\mu_e$ is the vector of expected excess returns and $\\Sigma$ is the variance-covariance matrix.\n",
    "\n",
    "This is implemented as follows:\n",
    "\n"
   ]
  },
  {
   "cell_type": "code",
   "execution_count": 12,
   "metadata": {},
   "outputs": [],
   "source": [
    "# for convenience and readability, define the inverse of a dataframe\n",
    "def inverse(d):\n",
    "    \"\"\"\n",
    "    Invert the dataframe by inverting the underlying matrix\n",
    "    \"\"\"\n",
    "    return pd.DataFrame(inv(d.values), index=d.columns, columns=d.index)\n",
    "\n",
    "def w_msr(sigma, mu, scale=True):\n",
    "    \"\"\"\n",
    "    Optimal (Tangent/Max Sharpe Ratio) Portfolio weights\n",
    "    by using the Markowitz Optimization Procedure\n",
    "    Mu is the vector of Excess expected Returns\n",
    "    Sigma must be an N x N matrix as a DataFrame and Mu a column vector as a Series\n",
    "    This implements page 188 Equation 5.2.28 of\n",
    "    \"The econometrics of financial markets\" Campbell, Lo and Mackinlay.\n",
    "    \"\"\"\n",
    "    w = inverse(sigma).dot(mu)\n",
    "    if scale:\n",
    "        w = w/sum(w) # fix: this assumes all w is +ve\n",
    "    return w\n"
   ]
  },
  {
   "cell_type": "markdown",
   "metadata": {},
   "source": [
    "Recall that the investor expects that Intel will return 2\\% and Pfizer will return 4\\% . We can now examine the optimal weights obtained by naively implementing the Markowitz procedure with these expected returns."
   ]
  },
  {
   "cell_type": "code",
   "execution_count": 13,
   "metadata": {},
   "outputs": [
    {
     "data": {
      "text/plain": [
       "INTC     3.41\n",
       "PFE     96.59\n",
       "dtype: float64"
      ]
     },
     "execution_count": 13,
     "metadata": {},
     "output_type": "execute_result"
    }
   ],
   "source": [
    "mu_exp = pd.Series([.02, .04],index=tickers) # INTC and PFE\n",
    "np.round(w_msr(s, mu_exp)*100, 2)\n"
   ]
  },
  {
   "cell_type": "markdown",
   "metadata": {},
   "source": [
    "Consistent with the poor reputation of naive Markowitz optimization, the Markwitz procedure places an unrealistic weight of more than 96\\% in Pfizer and less than 4\\% in Intel. This is completely impractical and no reasonable investor would make such dramatic bets.\n",
    "\n",
    "In contrast, let us now find the weights that the Black Litterman procedure would place. We allow $\\Omega$ to be computed automatically, and are willing to use all the other defaults. We find the Black Litterman weights as follows:"
   ]
  },
  {
   "cell_type": "code",
   "execution_count": 14,
   "metadata": {},
   "outputs": [
    {
     "data": {
      "text/plain": [
       "INTC    0.037622\n",
       "PFE     0.024111\n",
       "dtype: float64"
      ]
     },
     "execution_count": 14,
     "metadata": {},
     "output_type": "execute_result"
    }
   ],
   "source": [
    "# Absolute view 1: INTC will return 2%\n",
    "# Absolute view 2: PFE will return 4%\n",
    "q = pd.Series({'INTC': 0.02, 'PFE': 0.04})\n",
    "\n",
    "# The Pick Matrix\n",
    "# For View 2, it is for PFE\n",
    "p = pd.DataFrame([\n",
    "# For View 1, this is for INTC\n",
    "    {'INTC': 1, 'PFE': 0},\n",
    "# For View 2, it is for PFE\n",
    "    {'INTC': 0, 'PFE': 1}\n",
    "    ])\n",
    "\n",
    "# Find the Black Litterman Expected Returns\n",
    "bl_mu, bl_sigma = bl(w_prior=pd.Series({'INTC':.44, 'PFE':.56}), sigma_prior=s, p=p, q=q)\n",
    "# Black Litterman Implied Mu\n",
    "bl_mu\n"
   ]
  },
  {
   "cell_type": "markdown",
   "metadata": {},
   "source": [
    "The posterior returns returned by the procedure are clearly weighted between that of the equilibrium implied expected returns (in the range of 5\\% and 1\\%) and that of the investor (2\\% and 4\\%). The question is are these weights likely to yield more realistic portfolios? To answer that question we supply the Black Litterman expected returns and covariance matrix to the optimizer:"
   ]
  },
  {
   "cell_type": "code",
   "execution_count": 15,
   "metadata": {},
   "outputs": [
    {
     "data": {
      "text/plain": [
       "INTC    0.140692\n",
       "PFE     0.859308\n",
       "dtype: float64"
      ]
     },
     "execution_count": 15,
     "metadata": {},
     "output_type": "execute_result"
    }
   ],
   "source": [
    "# Use the Black Litterman expected returns to get the Optimal Markowitz weights\n",
    "w_msr(bl_sigma, bl_mu)"
   ]
  },
  {
   "cell_type": "markdown",
   "metadata": {},
   "source": [
    "We see that we get much more reasonable weights than we did with naive optimization. These weights are also much closer to the 45-55 mix in the cap weighted portfolio.\n",
    "On the other hand, they respect the investor's view that expects Pfizer to rebound, and places a higher weight on Pfizer relative to the cap weighted portfolio.\n",
    "\n",
    "### A Simple Example: Relative Views\n",
    "\n",
    "In this example, we examine relative views. We stick with our simple 2-stock example. Recall that the Cap-Weighted implied expected returns are:\n"
   ]
  },
  {
   "cell_type": "code",
   "execution_count": 16,
   "metadata": {},
   "outputs": [
    {
     "data": {
      "text/plain": [
       "INTC    0.052084\n",
       "PFE     0.008628\n",
       "Name: Implied Returns, dtype: float64"
      ]
     },
     "execution_count": 16,
     "metadata": {},
     "output_type": "execute_result"
    }
   ],
   "source": [
    "# Expected returns inferred from the cap-weights\n",
    "pi\n"
   ]
  },
  {
   "cell_type": "markdown",
   "metadata": {},
   "source": [
    "Recall also that the cap-weighted portfolio is approximately a 45-55 mix of Intel and Pfizer.\n",
    "\n",
    "Assume instead that the investor feels that the Intel will outperform Pfizer by only 2\\%. This view is implemented as follows:"
   ]
  },
  {
   "cell_type": "code",
   "execution_count": 17,
   "metadata": {},
   "outputs": [
    {
     "data": {
      "text/plain": [
       "INTC    0.041374\n",
       "PFE     0.009646\n",
       "dtype: float64"
      ]
     },
     "execution_count": 17,
     "metadata": {},
     "output_type": "execute_result"
    }
   ],
   "source": [
    "q = pd.Series([\n",
    "# Relative View 1: INTC will outperform PFE by 2%\n",
    "  0.02\n",
    "    ]\n",
    ")\n",
    "# The Pick Matrix\n",
    "p = pd.DataFrame([\n",
    "  # For View 1, this is for INTC outperforming PFE\n",
    "  {'INTC': +1, 'PFE': -1}\n",
    "])\n",
    "\n",
    "# Find the Black Litterman Expected Returns\n",
    "bl_mu, bl_sigma = bl(w_prior=pd.Series({'INTC': .44, 'PFE': .56}), sigma_prior=s, p=p, q=q)\n",
    "# Black Litterman Implied Mu\n",
    "bl_mu\n"
   ]
  },
  {
   "cell_type": "markdown",
   "metadata": {},
   "source": [
    "Once again we see that the Black Litterman expected returns are a blend between the cap-weight implied weights and the investor view. The outperformance of Intel in the implied returns is:"
   ]
  },
  {
   "cell_type": "code",
   "execution_count": 18,
   "metadata": {},
   "outputs": [
    {
     "data": {
      "text/plain": [
       "0.043456"
      ]
     },
     "execution_count": 18,
     "metadata": {},
     "output_type": "execute_result"
    }
   ],
   "source": [
    "pi[0]-pi[1]"
   ]
  },
  {
   "cell_type": "markdown",
   "metadata": {},
   "source": [
    "In contrast, the investor felt it only would be 2\\%. The expected returns returned by the Black Litterman procedure show a spread that is a blend between the cap-weight implied returns and that of the investor:"
   ]
  },
  {
   "cell_type": "code",
   "execution_count": 19,
   "metadata": {},
   "outputs": [
    {
     "data": {
      "text/plain": [
       "0.031728"
      ]
     },
     "execution_count": 19,
     "metadata": {},
     "output_type": "execute_result"
    }
   ],
   "source": [
    "bl_mu[0]-bl_mu[1]"
   ]
  },
  {
   "cell_type": "markdown",
   "metadata": {},
   "source": [
    "And, the weights in the Optimized portfolio when we use these expected returns are:\n"
   ]
  },
  {
   "cell_type": "code",
   "execution_count": 20,
   "metadata": {},
   "outputs": [
    {
     "data": {
      "text/plain": [
       "INTC    0.347223\n",
       "PFE     0.652777\n",
       "dtype: float64"
      ]
     },
     "execution_count": 20,
     "metadata": {},
     "output_type": "execute_result"
    }
   ],
   "source": [
    "# Use the Black Litterman expected returns and covariance matrix\n",
    "w_msr(bl_sigma, bl_mu)"
   ]
  },
  {
   "cell_type": "markdown",
   "metadata": {},
   "source": [
    "These seem like reasonable weights, and demonstrates the power of using the Black Litterman procedure. In contrast, consider the weights we would get if we implemented the same view without Black Litterman. We set the returns of Intel and Pfizer to be 3\\% and 1\\% respectively."
   ]
  },
  {
   "cell_type": "code",
   "execution_count": 21,
   "metadata": {},
   "outputs": [
    {
     "data": {
      "text/plain": [
       "INTC    0.258528\n",
       "PFE     0.741472\n",
       "dtype: float64"
      ]
     },
     "execution_count": 21,
     "metadata": {},
     "output_type": "execute_result"
    }
   ],
   "source": [
    "w_msr(s, [.03, .01])"
   ]
  },
  {
   "cell_type": "markdown",
   "metadata": {},
   "source": [
    "The weights are significantly more dramatic than one might be willing to implement, and are likely unwarranted given the relatively weak view. In fact, if the same view were implemented as Intel and Pfizer returning 2\\% and 0\\%, the results are even more extreme:"
   ]
  },
  {
   "cell_type": "code",
   "execution_count": 22,
   "metadata": {},
   "outputs": [
    {
     "data": {
      "text/plain": [
       "INTC    1.248244\n",
       "PFE    -0.248244\n",
       "dtype: float64"
      ]
     },
     "execution_count": 22,
     "metadata": {},
     "output_type": "execute_result"
    }
   ],
   "source": [
    "w_msr(s, [.02, .0])"
   ]
  },
  {
   "cell_type": "markdown",
   "metadata": {},
   "source": [
    "In this case, the Markowitz recommends shorting Pfizer to the extent of nearly 25\\% of the portfolio and leveraging Intel to 125\\%. Clearly this is not a plausible allocation based on the simple view expressed above."
   ]
  },
  {
   "cell_type": "markdown",
   "metadata": {},
   "source": [
    "## Reproducing the He-Litterman (1999) Results\n",
    "\n",
    "\n",
    "The He-Litterman example involves an international allocation between 7 countries. The data is as follows:"
   ]
  },
  {
   "cell_type": "code",
   "execution_count": 23,
   "metadata": {
    "scrolled": true
   },
   "outputs": [
    {
     "data": {
      "text/plain": [
       "AU    3.9\n",
       "CA    6.9\n",
       "FR    8.4\n",
       "DE    9.0\n",
       "JP    4.3\n",
       "UK    6.8\n",
       "US    7.6\n",
       "Name: Implied Returns, dtype: float64"
      ]
     },
     "execution_count": 23,
     "metadata": {},
     "output_type": "execute_result"
    }
   ],
   "source": [
    "# The 7 countries ...\n",
    "countries  = ['AU', 'CA', 'FR', 'DE', 'JP', 'UK', 'US'] \n",
    "# Table 1 of the He-Litterman paper\n",
    "# Correlation Matrix\n",
    "rho = pd.DataFrame([\n",
    "    [1.000,0.488,0.478,0.515,0.439,0.512,0.491],\n",
    "    [0.488,1.000,0.664,0.655,0.310,0.608,0.779],\n",
    "    [0.478,0.664,1.000,0.861,0.355,0.783,0.668],\n",
    "    [0.515,0.655,0.861,1.000,0.354,0.777,0.653],\n",
    "    [0.439,0.310,0.355,0.354,1.000,0.405,0.306],\n",
    "    [0.512,0.608,0.783,0.777,0.405,1.000,0.652],\n",
    "    [0.491,0.779,0.668,0.653,0.306,0.652,1.000]\n",
    "], index=countries, columns=countries)\n",
    "\n",
    "# Table 2 of the He-Litterman paper: volatilities\n",
    "vols = pd.DataFrame([0.160,0.203,0.248,0.271,0.210,0.200,0.187],index=countries, columns=[\"vol\"]) \n",
    "# Table 2 of the He-Litterman paper: cap-weights\n",
    "w_eq = pd.DataFrame([0.016,0.022,0.052,0.055,0.116,0.124,0.615], index=countries, columns=[\"CapWeight\"])\n",
    "# Compute the Covariance Matrix\n",
    "sigma_prior = vols.dot(vols.T) * rho\n",
    "# Compute Pi and compare:\n",
    "pi = implied_returns(delta=2.5, sigma=sigma_prior, w=w_eq)\n",
    "(pi*100).round(1)"
   ]
  },
  {
   "cell_type": "code",
   "execution_count": 24,
   "metadata": {},
   "outputs": [
    {
     "data": {
      "text/html": [
       "<div>\n",
       "<style scoped>\n",
       "    .dataframe tbody tr th:only-of-type {\n",
       "        vertical-align: middle;\n",
       "    }\n",
       "\n",
       "    .dataframe tbody tr th {\n",
       "        vertical-align: top;\n",
       "    }\n",
       "\n",
       "    .dataframe thead th {\n",
       "        text-align: right;\n",
       "    }\n",
       "</style>\n",
       "<table border=\"1\" class=\"dataframe\">\n",
       "  <thead>\n",
       "    <tr style=\"text-align: right;\">\n",
       "      <th></th>\n",
       "      <th>AU</th>\n",
       "      <th>CA</th>\n",
       "      <th>FR</th>\n",
       "      <th>DE</th>\n",
       "      <th>JP</th>\n",
       "      <th>UK</th>\n",
       "      <th>US</th>\n",
       "    </tr>\n",
       "  </thead>\n",
       "  <tbody>\n",
       "    <tr>\n",
       "      <th>AU</th>\n",
       "      <td>0.025600</td>\n",
       "      <td>0.015850</td>\n",
       "      <td>0.018967</td>\n",
       "      <td>0.022330</td>\n",
       "      <td>0.014750</td>\n",
       "      <td>0.016384</td>\n",
       "      <td>0.014691</td>\n",
       "    </tr>\n",
       "    <tr>\n",
       "      <th>CA</th>\n",
       "      <td>0.015850</td>\n",
       "      <td>0.041209</td>\n",
       "      <td>0.033428</td>\n",
       "      <td>0.036034</td>\n",
       "      <td>0.013215</td>\n",
       "      <td>0.024685</td>\n",
       "      <td>0.029572</td>\n",
       "    </tr>\n",
       "    <tr>\n",
       "      <th>FR</th>\n",
       "      <td>0.018967</td>\n",
       "      <td>0.033428</td>\n",
       "      <td>0.061504</td>\n",
       "      <td>0.057866</td>\n",
       "      <td>0.018488</td>\n",
       "      <td>0.038837</td>\n",
       "      <td>0.030979</td>\n",
       "    </tr>\n",
       "    <tr>\n",
       "      <th>DE</th>\n",
       "      <td>0.022330</td>\n",
       "      <td>0.036034</td>\n",
       "      <td>0.057866</td>\n",
       "      <td>0.073441</td>\n",
       "      <td>0.020146</td>\n",
       "      <td>0.042113</td>\n",
       "      <td>0.033092</td>\n",
       "    </tr>\n",
       "    <tr>\n",
       "      <th>JP</th>\n",
       "      <td>0.014750</td>\n",
       "      <td>0.013215</td>\n",
       "      <td>0.018488</td>\n",
       "      <td>0.020146</td>\n",
       "      <td>0.044100</td>\n",
       "      <td>0.017010</td>\n",
       "      <td>0.012017</td>\n",
       "    </tr>\n",
       "    <tr>\n",
       "      <th>UK</th>\n",
       "      <td>0.016384</td>\n",
       "      <td>0.024685</td>\n",
       "      <td>0.038837</td>\n",
       "      <td>0.042113</td>\n",
       "      <td>0.017010</td>\n",
       "      <td>0.040000</td>\n",
       "      <td>0.024385</td>\n",
       "    </tr>\n",
       "    <tr>\n",
       "      <th>US</th>\n",
       "      <td>0.014691</td>\n",
       "      <td>0.029572</td>\n",
       "      <td>0.030979</td>\n",
       "      <td>0.033092</td>\n",
       "      <td>0.012017</td>\n",
       "      <td>0.024385</td>\n",
       "      <td>0.034969</td>\n",
       "    </tr>\n",
       "  </tbody>\n",
       "</table>\n",
       "</div>"
      ],
      "text/plain": [
       "          AU        CA        FR        DE        JP        UK        US\n",
       "AU  0.025600  0.015850  0.018967  0.022330  0.014750  0.016384  0.014691\n",
       "CA  0.015850  0.041209  0.033428  0.036034  0.013215  0.024685  0.029572\n",
       "FR  0.018967  0.033428  0.061504  0.057866  0.018488  0.038837  0.030979\n",
       "DE  0.022330  0.036034  0.057866  0.073441  0.020146  0.042113  0.033092\n",
       "JP  0.014750  0.013215  0.018488  0.020146  0.044100  0.017010  0.012017\n",
       "UK  0.016384  0.024685  0.038837  0.042113  0.017010  0.040000  0.024385\n",
       "US  0.014691  0.029572  0.030979  0.033092  0.012017  0.024385  0.034969"
      ]
     },
     "execution_count": 24,
     "metadata": {},
     "output_type": "execute_result"
    }
   ],
   "source": [
    "sigma_prior "
   ]
  },
  {
   "cell_type": "markdown",
   "metadata": {},
   "source": [
    "The values of $\\pi$ computed by the Python code exactly matches column 3 of Table 2"
   ]
  },
  {
   "cell_type": "markdown",
   "metadata": {},
   "source": [
    "### View 1: Germany vs Rest of Europe\n",
    "\n",
    "Next, we impose the view that German equities will outperform the rest of European equities by 5\\%.\n",
    "\n",
    "The other European equities are France and the UK. We split the outperformance proportional to the Market Caps of France and the UK.\n"
   ]
  },
  {
   "cell_type": "code",
   "execution_count": 25,
   "metadata": {},
   "outputs": [
    {
     "data": {
      "text/html": [
       "<div>\n",
       "<style scoped>\n",
       "    .dataframe tbody tr th:only-of-type {\n",
       "        vertical-align: middle;\n",
       "    }\n",
       "\n",
       "    .dataframe tbody tr th {\n",
       "        vertical-align: top;\n",
       "    }\n",
       "\n",
       "    .dataframe thead th {\n",
       "        text-align: right;\n",
       "    }\n",
       "</style>\n",
       "<table border=\"1\" class=\"dataframe\">\n",
       "  <thead>\n",
       "    <tr style=\"text-align: right;\">\n",
       "      <th></th>\n",
       "      <th>AU</th>\n",
       "      <th>CA</th>\n",
       "      <th>FR</th>\n",
       "      <th>DE</th>\n",
       "      <th>JP</th>\n",
       "      <th>UK</th>\n",
       "      <th>US</th>\n",
       "    </tr>\n",
       "  </thead>\n",
       "  <tbody>\n",
       "    <tr>\n",
       "      <th>0</th>\n",
       "      <td>0.0</td>\n",
       "      <td>0.0</td>\n",
       "      <td>-29.5</td>\n",
       "      <td>100.0</td>\n",
       "      <td>0.0</td>\n",
       "      <td>-70.5</td>\n",
       "      <td>0.0</td>\n",
       "    </tr>\n",
       "  </tbody>\n",
       "</table>\n",
       "</div>"
      ],
      "text/plain": [
       "    AU   CA    FR     DE   JP    UK   US\n",
       "0  0.0  0.0 -29.5  100.0  0.0 -70.5  0.0"
      ]
     },
     "execution_count": 25,
     "metadata": {},
     "output_type": "execute_result"
    }
   ],
   "source": [
    "# Germany will outperform other European Equities (i.e. FR and UK) by 5%\n",
    "q = pd.Series([.05]) # just one view\n",
    "# start with a single view, all zeros and overwrite the specific view\n",
    "p = pd.DataFrame([0.]*len(countries), index=countries).T\n",
    "# find the relative market caps of FR and UK to split the\n",
    "# relative outperformance of DE ...\n",
    "w_fr =  w_eq.loc[\"FR\"]/(w_eq.loc[\"FR\"]+w_eq.loc[\"UK\"])\n",
    "w_uk =  w_eq.loc[\"UK\"]/(w_eq.loc[\"FR\"]+w_eq.loc[\"UK\"])\n",
    "p.iloc[0]['DE'] = 1.\n",
    "p.iloc[0]['FR'] = -w_fr\n",
    "p.iloc[0]['UK'] = -w_uk\n",
    "(p*100).round(1)\n"
   ]
  },
  {
   "cell_type": "markdown",
   "metadata": {},
   "source": [
    " The results of implementing this view appear in the He-Litterman paper in Table 4. This exactly reproduces column 1 of Table 4. Next, we examine the values of $\\mu^{BL}$:\n"
   ]
  },
  {
   "cell_type": "code",
   "execution_count": 26,
   "metadata": {},
   "outputs": [
    {
     "data": {
      "text/plain": [
       "AU     4.3\n",
       "CA     7.6\n",
       "FR     9.3\n",
       "DE    11.0\n",
       "JP     4.5\n",
       "UK     7.0\n",
       "US     8.1\n",
       "dtype: float64"
      ]
     },
     "execution_count": 26,
     "metadata": {},
     "output_type": "execute_result"
    }
   ],
   "source": [
    "delta = 2.5\n",
    "tau = 0.05 # from Footnote 8\n",
    "# Find the Black Litterman Expected Returns\n",
    "bl_mu, bl_sigma = bl(w_eq, sigma_prior, p, q, tau = tau)\n",
    "(bl_mu*100).round(1)\n"
   ]
  },
  {
   "cell_type": "markdown",
   "metadata": {},
   "source": [
    "The  Black Litterman expected returns computed by the code exactly reproduces column 2 of Table 4.\n",
    "\n",
    "He-Litterman compute the optimal portfolio $w^*$ as follows (this is Equation (13) on page 6 of their paper)\n"
   ]
  },
  {
   "cell_type": "code",
   "execution_count": 27,
   "metadata": {},
   "outputs": [
    {
     "data": {
      "text/plain": [
       "AU     1.5\n",
       "CA     2.1\n",
       "FR    -4.0\n",
       "DE    35.4\n",
       "JP    11.0\n",
       "UK    -9.5\n",
       "US    58.6\n",
       "dtype: float64"
      ]
     },
     "execution_count": 27,
     "metadata": {},
     "output_type": "execute_result"
    }
   ],
   "source": [
    "def w_star(delta, sigma, mu):\n",
    "    return (inverse(sigma).dot(mu))/delta\n",
    "\n",
    "wstar = w_star(delta=2.5, sigma=bl_sigma, mu=bl_mu)\n",
    "# display w*\n",
    "(wstar*100).round(1)\n"
   ]
  },
  {
   "cell_type": "markdown",
   "metadata": {},
   "source": [
    "The computed $w^*$ exactly replicates column 3 ($w^*$) of Table 4. Finally, they compute $w^* - \\frac{w_{eq}}{1+\\tau}$ which is the difference in weights between the optimal portfolio and the equilibrium portfolio (they use unscaled weights) in column 4. We replicate that column as follows:"
   ]
  },
  {
   "cell_type": "code",
   "execution_count": 28,
   "metadata": {},
   "outputs": [
    {
     "data": {
      "text/plain": [
       "AU     0.0\n",
       "CA    -0.0\n",
       "FR    -8.9\n",
       "DE    30.2\n",
       "JP     0.0\n",
       "UK   -21.3\n",
       "US     0.0\n",
       "dtype: float64"
      ]
     },
     "execution_count": 28,
     "metadata": {},
     "output_type": "execute_result"
    }
   ],
   "source": [
    "w_eq  = w_msr(delta*sigma_prior, pi, scale=False)\n",
    "# Display the difference in Posterior and Prior weights\n",
    "np.round(wstar - w_eq/(1+tau), 3)*100\n"
   ]
  },
  {
   "cell_type": "markdown",
   "metadata": {},
   "source": [
    "which exactly matches Column 4 of Table 4. This completes our reproduction of the first view in He-Litterman (1999).\n",
    "\n",
    "Note that this demonstrates the power of the approach. The weights for assets that do not involve the view remain unchanged. The two underperforming countries (according to the view) are underweighted, while the overperforming country is overweighted, but not to the extreme extent that a naive portfolio optimizer would have produced."
   ]
  },
  {
   "cell_type": "markdown",
   "metadata": {},
   "source": [
    "### View 2: Canada vs US\n",
    "\n",
    "For their second case, He and Litterman implement the additional view that Canadian Equities will outperform US Equities by 3\\%. The results are in (their) Table 5, which we shall now reproduce."
   ]
  },
  {
   "cell_type": "code",
   "execution_count": 29,
   "metadata": {},
   "outputs": [
    {
     "data": {
      "text/html": [
       "<div>\n",
       "<style scoped>\n",
       "    .dataframe tbody tr th:only-of-type {\n",
       "        vertical-align: middle;\n",
       "    }\n",
       "\n",
       "    .dataframe tbody tr th {\n",
       "        vertical-align: top;\n",
       "    }\n",
       "\n",
       "    .dataframe thead th {\n",
       "        text-align: right;\n",
       "    }\n",
       "</style>\n",
       "<table border=\"1\" class=\"dataframe\">\n",
       "  <thead>\n",
       "    <tr style=\"text-align: right;\">\n",
       "      <th></th>\n",
       "      <th>0</th>\n",
       "      <th>1</th>\n",
       "    </tr>\n",
       "  </thead>\n",
       "  <tbody>\n",
       "    <tr>\n",
       "      <th>AU</th>\n",
       "      <td>0.0</td>\n",
       "      <td>0.0</td>\n",
       "    </tr>\n",
       "    <tr>\n",
       "      <th>CA</th>\n",
       "      <td>0.0</td>\n",
       "      <td>100.0</td>\n",
       "    </tr>\n",
       "    <tr>\n",
       "      <th>FR</th>\n",
       "      <td>-29.5</td>\n",
       "      <td>0.0</td>\n",
       "    </tr>\n",
       "    <tr>\n",
       "      <th>DE</th>\n",
       "      <td>100.0</td>\n",
       "      <td>0.0</td>\n",
       "    </tr>\n",
       "    <tr>\n",
       "      <th>JP</th>\n",
       "      <td>0.0</td>\n",
       "      <td>0.0</td>\n",
       "    </tr>\n",
       "    <tr>\n",
       "      <th>UK</th>\n",
       "      <td>-70.5</td>\n",
       "      <td>0.0</td>\n",
       "    </tr>\n",
       "    <tr>\n",
       "      <th>US</th>\n",
       "      <td>0.0</td>\n",
       "      <td>-100.0</td>\n",
       "    </tr>\n",
       "  </tbody>\n",
       "</table>\n",
       "</div>"
      ],
      "text/plain": [
       "        0      1\n",
       "AU    0.0    0.0\n",
       "CA    0.0  100.0\n",
       "FR  -29.5    0.0\n",
       "DE  100.0    0.0\n",
       "JP    0.0    0.0\n",
       "UK  -70.5    0.0\n",
       "US    0.0 -100.0"
      ]
     },
     "execution_count": 29,
     "metadata": {},
     "output_type": "execute_result"
    }
   ],
   "source": [
    "view2 = pd.Series([.03], index=[1])\n",
    "q = q.append(view2)\n",
    "pick2 = pd.DataFrame([0.]*len(countries), index=countries, columns=[1]).T\n",
    "p = p.append(pick2)\n",
    "p.iloc[1]['CA']=+1\n",
    "p.iloc[1]['US']=-1\n",
    "np.round(p.T, 3)*100"
   ]
  },
  {
   "cell_type": "markdown",
   "metadata": {},
   "source": [
    "This matches columns 1 and 2 of Table 5. We now compute the Black Litterman weights as\n",
    "before:"
   ]
  },
  {
   "cell_type": "code",
   "execution_count": 30,
   "metadata": {},
   "outputs": [
    {
     "data": {
      "text/plain": [
       "AU     4.4\n",
       "CA     8.7\n",
       "FR     9.5\n",
       "DE    11.2\n",
       "JP     4.6\n",
       "UK     7.0\n",
       "US     7.5\n",
       "dtype: float64"
      ]
     },
     "execution_count": 30,
     "metadata": {},
     "output_type": "execute_result"
    }
   ],
   "source": [
    "bl_mu, bl_sigma = bl(w_eq, sigma_prior, p, q, tau = tau)\n",
    "np.round(bl_mu*100, 1)"
   ]
  },
  {
   "cell_type": "markdown",
   "metadata": {},
   "source": [
    "The Black Litterman expected returns computed by the Python code exactly reproduces column 3 of\n",
    "Table 5.\n",
    "He-Litterman compute the optimal portfolio w ∗ as follows (this is Equation (13) on page 6 of\n",
    "their paper)"
   ]
  },
  {
   "cell_type": "code",
   "execution_count": 31,
   "metadata": {},
   "outputs": [
    {
     "data": {
      "text/plain": [
       "AU     1.5\n",
       "CA    41.9\n",
       "FR    -3.4\n",
       "DE    33.6\n",
       "JP    11.0\n",
       "UK    -8.2\n",
       "US    18.8\n",
       "dtype: float64"
      ]
     },
     "execution_count": 31,
     "metadata": {},
     "output_type": "execute_result"
    }
   ],
   "source": [
    "wstar = w_star(delta=2.5, sigma=bl_sigma, mu=bl_mu)\n",
    "# display w*\n",
    "(wstar*100).round(1)"
   ]
  },
  {
   "cell_type": "markdown",
   "metadata": {},
   "source": [
    "The computed $w^*$ exactly replicates column 4 ($w^*$) of Table 5. Finally, as in the previous case, they compute $w^* - \\frac{w_{eq}}{1+\\tau}$ in column 5. We replicate that column as follows:"
   ]
  },
  {
   "cell_type": "code",
   "execution_count": 32,
   "metadata": {},
   "outputs": [
    {
     "data": {
      "text/plain": [
       "AU     0.0\n",
       "CA    39.8\n",
       "FR    -8.4\n",
       "DE    28.4\n",
       "JP    -0.0\n",
       "UK   -20.0\n",
       "US   -39.8\n",
       "dtype: float64"
      ]
     },
     "execution_count": 32,
     "metadata": {},
     "output_type": "execute_result"
    }
   ],
   "source": [
    "w_eq  = w_msr(delta*sigma_prior, pi, scale=False)\n",
    "# Display the difference in Posterior and Prior weights\n",
    "np.round(wstar - w_eq/(1+tau), 3)*100"
   ]
  },
  {
   "cell_type": "markdown",
   "metadata": {},
   "source": [
    "Which exactly reproduces the last column of Table 5 of their paper.\n",
    "\n",
    "Once again, we see the power of the approach. The weights for assets that do not involve the view (AU, JP) remain unchanged. The two underperforming countries (FR, UK, US, according to the view) are underweighted, while the overperforming countries (CA, DE) are overweighted, but not to the extreme extent that a naive portfolio optimizer would have produced.\n"
   ]
  },
  {
   "cell_type": "markdown",
   "metadata": {},
   "source": [
    "### View 3: More Bullish Canada vs US\n",
    "\n",
    "For their third case, He and Litterman alter the second view that Canadian Equities will outperform US Equities by increasing the expected out-performance from the previously stated 3\\% to 4\\%. The results are in Table 6 of their paper, which we shall now reproduce.\n"
   ]
  },
  {
   "cell_type": "code",
   "execution_count": 33,
   "metadata": {},
   "outputs": [
    {
     "data": {
      "text/plain": [
       "0    0.05\n",
       "1    0.04\n",
       "dtype: float64"
      ]
     },
     "execution_count": 33,
     "metadata": {},
     "output_type": "execute_result"
    }
   ],
   "source": [
    "q[1] = .04\n",
    "q"
   ]
  },
  {
   "cell_type": "markdown",
   "metadata": {},
   "source": [
    "Note that P remains unchanged since we have only altered Q, not P"
   ]
  },
  {
   "cell_type": "code",
   "execution_count": 34,
   "metadata": {},
   "outputs": [
    {
     "data": {
      "text/html": [
       "<div>\n",
       "<style scoped>\n",
       "    .dataframe tbody tr th:only-of-type {\n",
       "        vertical-align: middle;\n",
       "    }\n",
       "\n",
       "    .dataframe tbody tr th {\n",
       "        vertical-align: top;\n",
       "    }\n",
       "\n",
       "    .dataframe thead th {\n",
       "        text-align: right;\n",
       "    }\n",
       "</style>\n",
       "<table border=\"1\" class=\"dataframe\">\n",
       "  <thead>\n",
       "    <tr style=\"text-align: right;\">\n",
       "      <th></th>\n",
       "      <th>0</th>\n",
       "      <th>1</th>\n",
       "    </tr>\n",
       "  </thead>\n",
       "  <tbody>\n",
       "    <tr>\n",
       "      <th>AU</th>\n",
       "      <td>0.0</td>\n",
       "      <td>0.0</td>\n",
       "    </tr>\n",
       "    <tr>\n",
       "      <th>CA</th>\n",
       "      <td>0.0</td>\n",
       "      <td>100.0</td>\n",
       "    </tr>\n",
       "    <tr>\n",
       "      <th>FR</th>\n",
       "      <td>-29.5</td>\n",
       "      <td>0.0</td>\n",
       "    </tr>\n",
       "    <tr>\n",
       "      <th>DE</th>\n",
       "      <td>100.0</td>\n",
       "      <td>0.0</td>\n",
       "    </tr>\n",
       "    <tr>\n",
       "      <th>JP</th>\n",
       "      <td>0.0</td>\n",
       "      <td>0.0</td>\n",
       "    </tr>\n",
       "    <tr>\n",
       "      <th>UK</th>\n",
       "      <td>-70.5</td>\n",
       "      <td>0.0</td>\n",
       "    </tr>\n",
       "    <tr>\n",
       "      <th>US</th>\n",
       "      <td>0.0</td>\n",
       "      <td>-100.0</td>\n",
       "    </tr>\n",
       "  </tbody>\n",
       "</table>\n",
       "</div>"
      ],
      "text/plain": [
       "        0      1\n",
       "AU    0.0    0.0\n",
       "CA    0.0  100.0\n",
       "FR  -29.5    0.0\n",
       "DE  100.0    0.0\n",
       "JP    0.0    0.0\n",
       "UK  -70.5    0.0\n",
       "US    0.0 -100.0"
      ]
     },
     "execution_count": 34,
     "metadata": {},
     "output_type": "execute_result"
    }
   ],
   "source": [
    "np.round(p.T*100, 1)"
   ]
  },
  {
   "cell_type": "markdown",
   "metadata": {},
   "source": [
    "This matches columns 1 and 2 of Table 6. We now compute the Black Litterman weights as before:"
   ]
  },
  {
   "cell_type": "code",
   "execution_count": 35,
   "metadata": {},
   "outputs": [
    {
     "data": {
      "text/plain": [
       "AU     4.4\n",
       "CA     9.1\n",
       "FR     9.5\n",
       "DE    11.3\n",
       "JP     4.6\n",
       "UK     7.0\n",
       "US     7.3\n",
       "dtype: float64"
      ]
     },
     "execution_count": 35,
     "metadata": {},
     "output_type": "execute_result"
    }
   ],
   "source": [
    "bl_mu, bl_sigma = bl(w_eq, sigma_prior, p, q, tau = tau)\n",
    "np.round(bl_mu, 3)*100"
   ]
  },
  {
   "cell_type": "markdown",
   "metadata": {},
   "source": [
    "The  Black Litterman expected returns computed by my code exactly reproduces column 3 of Table 6.\n",
    "\n",
    "He-Litterman compute the optimal portfolio $w^*$ as follows (this is Equation (13) on page 6 of their paper)\n"
   ]
  },
  {
   "cell_type": "code",
   "execution_count": 36,
   "metadata": {},
   "outputs": [
    {
     "data": {
      "text/plain": [
       "AU     1.5\n",
       "CA    53.3\n",
       "FR    -3.3\n",
       "DE    33.1\n",
       "JP    11.0\n",
       "UK    -7.8\n",
       "US     7.3\n",
       "dtype: float64"
      ]
     },
     "execution_count": 36,
     "metadata": {},
     "output_type": "execute_result"
    }
   ],
   "source": [
    "wstar = w_star(delta=2.5, sigma=bl_sigma, mu=bl_mu)\n",
    "# display w*\n",
    "(wstar*100).round(1)"
   ]
  },
  {
   "cell_type": "markdown",
   "metadata": {},
   "source": [
    "The computed $w^*$ exactly replicates column 4 ($w^*$) of Table 7. Finally, as in the previous case, they compute $w^* - \\frac{w_{eq}}{1+\\tau}$ in column 6. We replicate that column as follows:"
   ]
  },
  {
   "cell_type": "code",
   "execution_count": 37,
   "metadata": {},
   "outputs": [
    {
     "data": {
      "text/plain": [
       "AU     0.0\n",
       "CA    51.3\n",
       "FR    -8.2\n",
       "DE    27.8\n",
       "JP    -0.0\n",
       "UK   -19.6\n",
       "US   -51.3\n",
       "dtype: float64"
      ]
     },
     "execution_count": 37,
     "metadata": {},
     "output_type": "execute_result"
    }
   ],
   "source": [
    "w_eq  = w_msr(delta*sigma_prior, pi, scale=False)\n",
    "# Display the difference in Posterior and Prior weights\n",
    "np.round(wstar - w_eq/(1+tau), 3)*100"
   ]
  },
  {
   "cell_type": "markdown",
   "metadata": {},
   "source": [
    "Which exactly reproduces the last column of Table 6 of their paper. Again, we see how the weights increase allocations consistent with the view, but keep allocations from getting extreme."
   ]
  },
  {
   "cell_type": "markdown",
   "metadata": {},
   "source": [
    "### View 4: Increasing View Uncertainty\n",
    "\n",
    "As a final step, He and Litterman demonstrate the effect of $\\Omega$. They increase the uncertainty associated with the first of the two views (i.e. the one that Germany will outperform the rest of Europe). First we compute the default value of $\\Omega$ and then increase the uncertainty associated with the first view alone."
   ]
  },
  {
   "cell_type": "code",
   "execution_count": 38,
   "metadata": {},
   "outputs": [
    {
     "data": {
      "text/html": [
       "<div>\n",
       "<style scoped>\n",
       "    .dataframe tbody tr th:only-of-type {\n",
       "        vertical-align: middle;\n",
       "    }\n",
       "\n",
       "    .dataframe tbody tr th {\n",
       "        vertical-align: top;\n",
       "    }\n",
       "\n",
       "    .dataframe thead th {\n",
       "        text-align: right;\n",
       "    }\n",
       "</style>\n",
       "<table border=\"1\" class=\"dataframe\">\n",
       "  <thead>\n",
       "    <tr style=\"text-align: right;\">\n",
       "      <th></th>\n",
       "      <th>0</th>\n",
       "      <th>1</th>\n",
       "    </tr>\n",
       "  </thead>\n",
       "  <tbody>\n",
       "    <tr>\n",
       "      <th>AU</th>\n",
       "      <td>0.0</td>\n",
       "      <td>0.0</td>\n",
       "    </tr>\n",
       "    <tr>\n",
       "      <th>CA</th>\n",
       "      <td>0.0</td>\n",
       "      <td>100.0</td>\n",
       "    </tr>\n",
       "    <tr>\n",
       "      <th>FR</th>\n",
       "      <td>-29.5</td>\n",
       "      <td>0.0</td>\n",
       "    </tr>\n",
       "    <tr>\n",
       "      <th>DE</th>\n",
       "      <td>100.0</td>\n",
       "      <td>0.0</td>\n",
       "    </tr>\n",
       "    <tr>\n",
       "      <th>JP</th>\n",
       "      <td>0.0</td>\n",
       "      <td>0.0</td>\n",
       "    </tr>\n",
       "    <tr>\n",
       "      <th>UK</th>\n",
       "      <td>-70.5</td>\n",
       "      <td>0.0</td>\n",
       "    </tr>\n",
       "    <tr>\n",
       "      <th>US</th>\n",
       "      <td>0.0</td>\n",
       "      <td>-100.0</td>\n",
       "    </tr>\n",
       "  </tbody>\n",
       "</table>\n",
       "</div>"
      ],
      "text/plain": [
       "        0      1\n",
       "AU    0.0    0.0\n",
       "CA    0.0  100.0\n",
       "FR  -29.5    0.0\n",
       "DE  100.0    0.0\n",
       "JP    0.0    0.0\n",
       "UK  -70.5    0.0\n",
       "US    0.0 -100.0"
      ]
     },
     "execution_count": 38,
     "metadata": {},
     "output_type": "execute_result"
    }
   ],
   "source": [
    "# This is the default \"Proportional to Prior\" assumption\n",
    "omega = proportional_prior(sigma_prior, tau, p)\n",
    "# Now, double the uncertainty associated with View 1\n",
    "omega.iloc[0,0] = 2*omega.iloc[0,0]\n",
    "np.round(p.T*100, 1)"
   ]
  },
  {
   "cell_type": "markdown",
   "metadata": {},
   "source": [
    "This matches columns 1 and 2 of Table 7 (which is if course, unchanged, since we have only altered $\\Omega$, not Q or P). We now compute the Black Litterman weights as before, but supplying the value of $\\Omega$ we just adjusted:"
   ]
  },
  {
   "cell_type": "code",
   "execution_count": 39,
   "metadata": {},
   "outputs": [
    {
     "data": {
      "text/plain": [
       "AU     4.3\n",
       "CA     8.9\n",
       "FR     9.3\n",
       "DE    10.6\n",
       "JP     4.6\n",
       "UK     6.9\n",
       "US     7.2\n",
       "dtype: float64"
      ]
     },
     "execution_count": 39,
     "metadata": {},
     "output_type": "execute_result"
    }
   ],
   "source": [
    "bl_mu, bl_sigma = bl(w_eq, sigma_prior, p, q, tau = tau, omega=omega)\n",
    "np.round(bl_mu, 3)*100"
   ]
  },
  {
   "cell_type": "markdown",
   "metadata": {},
   "source": [
    "The  Black Litterman expected returns computed by the code exactly reproduces column 3 of Table 7.\n",
    "\n",
    "He-Litterman compute the optimal portfolio $w^*$ as follows (this is Equation (13) on page 6 of their paper)"
   ]
  },
  {
   "cell_type": "code",
   "execution_count": 40,
   "metadata": {},
   "outputs": [
    {
     "data": {
      "text/plain": [
       "AU     1.5\n",
       "CA    53.9\n",
       "FR    -0.5\n",
       "DE    23.6\n",
       "JP    11.0\n",
       "UK    -1.1\n",
       "US     6.8\n",
       "dtype: float64"
      ]
     },
     "execution_count": 40,
     "metadata": {},
     "output_type": "execute_result"
    }
   ],
   "source": [
    "wstar = w_star(delta=2.5, sigma=bl_sigma, mu=bl_mu)\n",
    "# display w*\n",
    "(wstar*100).round(1)"
   ]
  },
  {
   "cell_type": "markdown",
   "metadata": {},
   "source": [
    "The computed $w^*$ exactly replicates column 4 ($w^*$) of Table 7. Finally, as in the previous case, they compute $w^* - \\frac{w_{eq}}{1+\\tau}$ in column 6. We replicate that column as follows:\n"
   ]
  },
  {
   "cell_type": "code",
   "execution_count": 41,
   "metadata": {},
   "outputs": [
    {
     "data": {
      "text/plain": [
       "AU    -0.0\n",
       "CA    51.8\n",
       "FR    -5.4\n",
       "DE    18.4\n",
       "JP     0.0\n",
       "UK   -13.0\n",
       "US   -51.8\n",
       "dtype: float64"
      ]
     },
     "execution_count": 41,
     "metadata": {},
     "output_type": "execute_result"
    }
   ],
   "source": [
    "w_eq  = w_msr(delta*sigma_prior, pi, scale=False)\n",
    "# Display the difference in Posterior and Prior weights\n",
    "np.round(wstar - w_eq/(1+tau), 3)*100"
   ]
  },
  {
   "cell_type": "markdown",
   "metadata": {},
   "source": [
    "Which exactly reproduces the last column of Table 7 of their paper. Again, we see how the weights increase allocations consistent with the view, but keep allocations from getting extreme.\n",
    "\n",
    "That concludes our reproduction of the paper. Note that He and Litterman also produce an extra table (Table 8) which demonstrates the value of adding a third view. However, the third view is identical to the values implied by the equilibrium and as a result, they produce exactly the same results as Table 7. I do not bother reproduce it here since the results are exactly the same as Table 7.\n",
    "\n",
    "## Try it on Industry Data ...\n",
    "\n",
    "Now that you've reproduced the results, you should be able to run the code on the Fama-French Industry Portfolios ...\n",
    "\n",
    "Start out by loading the data as follows, and then play around!"
   ]
  },
  {
   "cell_type": "code",
   "execution_count": 42,
   "metadata": {},
   "outputs": [],
   "source": [
    "import edhec_risk_kit_206 as erk\n",
    "\n",
    "ind49_rets = erk.get_ind_returns(weighting=\"vw\", n_inds=49)[\"2014\":]\n",
    "ind49_mcap = erk.get_ind_market_caps(49, weights=True)[\"2014\":]"
   ]
  }
 ],
 "metadata": {
  "kernelspec": {
   "display_name": "Python 3",
   "language": "python",
   "name": "python3"
  },
  "language_info": {
   "codemirror_mode": {
    "name": "ipython",
    "version": 3
   },
   "file_extension": ".py",
   "mimetype": "text/x-python",
   "name": "python",
   "nbconvert_exporter": "python",
   "pygments_lexer": "ipython3",
   "version": "3.7.5"
  }
 },
 "nbformat": 4,
 "nbformat_minor": 4
}
